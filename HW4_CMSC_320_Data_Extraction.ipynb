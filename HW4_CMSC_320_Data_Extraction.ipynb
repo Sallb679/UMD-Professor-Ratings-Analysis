{
  "cells": [
    {
      "cell_type": "markdown",
      "metadata": {
        "id": "view-in-github",
        "colab_type": "text"
      },
      "source": [
        "<a href=\"https://colab.research.google.com/github/Sallb679/UMD-Professor-Ratings-Analysis/blob/main/HW4_CMSC_320_Data_Extraction.ipynb\" target=\"_parent\"><img src=\"https://colab.research.google.com/assets/colab-badge.svg\" alt=\"Open In Colab\"/></a>"
      ]
    },
    {
      "cell_type": "markdown",
      "metadata": {
        "id": "HrzOIyS_r7zf"
      },
      "source": [
        "In this notebook i will scrape data from https://planetterp.com/ to do an analysis on professor reviews and see if i can predict their star rating\n",
        "\n",
        "some feautures I am considering:\n",
        "number of classes they teach\n",
        "experience (how many years/semesters they taught)\n",
        "total number of reviews\n",
        "sentiment of the reviews\n",
        "expected_grade\n",
        "time\n"
      ]
    },
    {
      "cell_type": "markdown",
      "metadata": {
        "id": "quQHaEcK5ZB0"
      },
      "source": [
        "Msking table schema\n",
        "\n",
        "table 1 professors\n",
        "table 2 courses\n",
        "table 3 grades"
      ]
    },
    {
      "cell_type": "code",
      "execution_count": null,
      "metadata": {
        "colab": {
          "background_save": true,
          "base_uri": "https://localhost:8080/"
        },
        "id": "DB6s3R6p7K_n",
        "outputId": "f37761ed-a6e6-4df2-bf36-3f95300f409b"
      },
      "outputs": [
        {
          "name": "stdout",
          "output_type": "stream",
          "text": [
            "📥 Downloading professors...\n"
          ]
        },
        {
          "name": "stderr",
          "output_type": "stream",
          "text": [
            "100%|██████████| 135/135 [02:42<00:00,  1.20s/it]\n"
          ]
        },
        {
          "name": "stdout",
          "output_type": "stream",
          "text": [
            "✅ Saved 13425 professors.\n",
            "🗣️ Downloading reviews...\n"
          ]
        },
        {
          "name": "stderr",
          "output_type": "stream",
          "text": [
            "100%|██████████| 13425/13425 [2:41:08<00:00,  1.39it/s]\n"
          ]
        },
        {
          "name": "stdout",
          "output_type": "stream",
          "text": [
            "✅ Saved 37401 reviews.\n",
            "📊 Downloading professor-specific grades...\n"
          ]
        },
        {
          "name": "stderr",
          "output_type": "stream",
          "text": [
            "100%|██████████| 37401/37401 [1:08:03<00:00,  9.16it/s]\n"
          ]
        },
        {
          "name": "stdout",
          "output_type": "stream",
          "text": [
            "✅ Saved 71543 grade records.\n"
          ]
        }
      ],
      "source": [
        "# STEP 1: Imports\n",
        "import requests\n",
        "import pandas as pd\n",
        "import time\n",
        "from tqdm import tqdm\n",
        "\n",
        "# STEP 2: Scraper Class\n",
        "class PlanetTerpScraper:\n",
        "    def __init__(self):\n",
        "        self.headers = {\"User-Agent\": \"Mozilla/5.0\"}\n",
        "        self.professors = []\n",
        "        self.reviews = []\n",
        "        self.grades = []\n",
        "\n",
        "    def get_professors_batch(self, limit=100, offset=0):\n",
        "        url = f\"https://planetterp.com/api/v1/professors?limit={limit}&offset={offset}\"\n",
        "        res = requests.get(url, headers=self.headers)\n",
        "        return res.json()\n",
        "\n",
        "    def get_reviews_for_prof(self, name):\n",
        "        url = f\"https://api.planetterp.com/v1/professor?name={name}&reviews=true\"\n",
        "        try:\n",
        "            res = requests.get(url, headers=self.headers)\n",
        "            data = res.json()\n",
        "            for r in data.get(\"reviews\", []):\n",
        "                r[\"professor\"] = name\n",
        "            return data.get(\"reviews\", [])\n",
        "        except:\n",
        "            return []\n",
        "\n",
        "    def get_grades_for_prof_course(self, course, professor):\n",
        "        url = f\"https://api.planetterp.com/v1/grades?course={course}&professor={professor}\"\n",
        "        try:\n",
        "            res = requests.get(url, headers=self.headers)\n",
        "            data = res.json()\n",
        "            if \"error\" in data:\n",
        "                return []\n",
        "            return data\n",
        "        except:\n",
        "            return []\n",
        "\n",
        "    def fetch_all_professors(self, total=13425, batch_size=100):\n",
        "        for offset in tqdm(range(0, total, batch_size)):\n",
        "            batch = self.get_professors_batch(limit=batch_size, offset=offset)\n",
        "            if not batch:\n",
        "                break\n",
        "            self.professors.extend(batch)\n",
        "            time.sleep(0.2)\n",
        "        return pd.DataFrame(self.professors)\n",
        "\n",
        "    def fetch_all_reviews(self):\n",
        "        for prof in tqdm(self.professors):\n",
        "            name = prof[\"name\"]\n",
        "            self.reviews.extend(self.get_reviews_for_prof(name))\n",
        "            time.sleep(0.5)\n",
        "        return pd.DataFrame(self.reviews)\n",
        "\n",
        "    def fetch_professor_grades_from_reviews(self, reviews_df):\n",
        "        seen = set()\n",
        "        for _, row in tqdm(reviews_df.iterrows(), total=len(reviews_df)):\n",
        "            course = row[\"course\"]\n",
        "            professor = row[\"professor\"]\n",
        "            if pd.isna(course) or pd.isna(professor):\n",
        "                continue\n",
        "            key = (course, professor)\n",
        "            if key in seen:\n",
        "                continue\n",
        "            seen.add(key)\n",
        "            self.grades.extend(self.get_grades_for_prof_course(course, professor))\n",
        "            time.sleep(0.25)\n",
        "        return pd.DataFrame(self.grades)\n",
        "\n",
        "# STEP 3: Run Scraper End to End\n",
        "scraper = PlanetTerpScraper()\n",
        "\n",
        "# 1. Download professors\n",
        "print(\"📥 Downloading professors...\")\n",
        "prof_df = scraper.fetch_all_professors()\n",
        "prof_df.to_csv(\"professors.csv\", index=False)\n",
        "print(f\"✅ Saved {len(prof_df)} professors.\")\n",
        "\n",
        "# 2. Download reviews\n",
        "print(\"🗣️ Downloading reviews...\")\n",
        "reviews_df = scraper.fetch_all_reviews()\n",
        "reviews_df.to_csv(\"reviews.csv\", index=False)\n",
        "print(f\"✅ Saved {len(reviews_df)} reviews.\")\n",
        "\n",
        "# 3. Download professor-specific grades\n",
        "print(\"📊 Downloading professor-specific grades...\")\n",
        "grades_df = scraper.fetch_professor_grades_from_reviews(reviews_df)\n",
        "grades_df.to_csv(\"grades.csv\", index=False)\n",
        "print(f\"✅ Saved {len(grades_df)} grade records.\")\n",
        "\n"
      ]
    }
  ],
  "metadata": {
    "colab": {
      "provenance": [],
      "authorship_tag": "ABX9TyPqnvMCjHEfCGiVAckRX/sD",
      "include_colab_link": true
    },
    "kernelspec": {
      "display_name": "Python 3",
      "name": "python3"
    },
    "language_info": {
      "name": "python"
    }
  },
  "nbformat": 4,
  "nbformat_minor": 0
}